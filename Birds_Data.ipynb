{
 "cells": [
  {
   "cell_type": "code",
   "execution_count": 1,
   "id": "349f23c5-c5dc-4aaa-9147-2bce0b2cacfb",
   "metadata": {},
   "outputs": [],
   "source": [
    "import pandas as pd"
   ]
  },
  {
   "cell_type": "code",
   "execution_count": 4,
   "id": "7daa5741-d5e5-4f78-b36c-a5b9395d9dde",
   "metadata": {},
   "outputs": [
    {
     "data": {
      "text/html": [
       "<div>\n",
       "<style scoped>\n",
       "    .dataframe tbody tr th:only-of-type {\n",
       "        vertical-align: middle;\n",
       "    }\n",
       "\n",
       "    .dataframe tbody tr th {\n",
       "        vertical-align: top;\n",
       "    }\n",
       "\n",
       "    .dataframe thead th {\n",
       "        text-align: right;\n",
       "    }\n",
       "</style>\n",
       "<table border=\"1\" class=\"dataframe\">\n",
       "  <thead>\n",
       "    <tr style=\"text-align: right;\">\n",
       "      <th></th>\n",
       "      <th>Record ID</th>\n",
       "      <th>Aircraft: Type</th>\n",
       "      <th>Airport: Name</th>\n",
       "      <th>Altitude bin</th>\n",
       "      <th>Aircraft: Make/Model</th>\n",
       "      <th>Wildlife: Number struck</th>\n",
       "      <th>Wildlife: Number Struck Actual</th>\n",
       "      <th>Effect: Impact to flight</th>\n",
       "      <th>FlightDate</th>\n",
       "      <th>Effect: Indicated Damage</th>\n",
       "      <th>...</th>\n",
       "      <th>Remains of wildlife sent to Smithsonian</th>\n",
       "      <th>Remarks</th>\n",
       "      <th>Wildlife: Size</th>\n",
       "      <th>Conditions: Sky</th>\n",
       "      <th>Wildlife: Species</th>\n",
       "      <th>Pilot warned of birds or wildlife?</th>\n",
       "      <th>Cost: Total $</th>\n",
       "      <th>Feet above ground</th>\n",
       "      <th>Number of people injured</th>\n",
       "      <th>Is Aircraft Large?</th>\n",
       "    </tr>\n",
       "  </thead>\n",
       "  <tbody>\n",
       "    <tr>\n",
       "      <th>0</th>\n",
       "      <td>202152</td>\n",
       "      <td>Airplane</td>\n",
       "      <td>LAGUARDIA NY</td>\n",
       "      <td>&gt; 1000 ft</td>\n",
       "      <td>B-737-400</td>\n",
       "      <td>Over 100</td>\n",
       "      <td>859</td>\n",
       "      <td>Engine Shut Down</td>\n",
       "      <td>11/23/2000 0:00</td>\n",
       "      <td>Caused damage</td>\n",
       "      <td>...</td>\n",
       "      <td>FALSE</td>\n",
       "      <td>FLT 753. PILOT REPTD A HUNDRED BIRDS ON UNKN T...</td>\n",
       "      <td>Medium</td>\n",
       "      <td>No Cloud</td>\n",
       "      <td>Unknown bird - medium</td>\n",
       "      <td>N</td>\n",
       "      <td>30,736</td>\n",
       "      <td>1,500</td>\n",
       "      <td>0</td>\n",
       "      <td>Yes</td>\n",
       "    </tr>\n",
       "    <tr>\n",
       "      <th>1</th>\n",
       "      <td>208159</td>\n",
       "      <td>Airplane</td>\n",
       "      <td>DALLAS/FORT WORTH INTL ARPT</td>\n",
       "      <td>&lt; 1000 ft</td>\n",
       "      <td>MD-80</td>\n",
       "      <td>Over 100</td>\n",
       "      <td>424</td>\n",
       "      <td>No_impact</td>\n",
       "      <td>7/25/2001 0:00</td>\n",
       "      <td>Caused damage</td>\n",
       "      <td>...</td>\n",
       "      <td>FALSE</td>\n",
       "      <td>102 CARCASSES FOUND. 1 LDG LIGHT ON NOSE GEAR ...</td>\n",
       "      <td>Small</td>\n",
       "      <td>Some Cloud</td>\n",
       "      <td>Rock pigeon</td>\n",
       "      <td>Y</td>\n",
       "      <td>0</td>\n",
       "      <td>0</td>\n",
       "      <td>0</td>\n",
       "      <td>No</td>\n",
       "    </tr>\n",
       "    <tr>\n",
       "      <th>2</th>\n",
       "      <td>207601</td>\n",
       "      <td>Airplane</td>\n",
       "      <td>LAKEFRONT AIRPORT</td>\n",
       "      <td>&lt; 1000 ft</td>\n",
       "      <td>C-500</td>\n",
       "      <td>Over 100</td>\n",
       "      <td>261</td>\n",
       "      <td>No_impact</td>\n",
       "      <td>9/14/2001 0:00</td>\n",
       "      <td>No damage</td>\n",
       "      <td>...</td>\n",
       "      <td>FALSE</td>\n",
       "      <td>FLEW UNDER A VERY LARGE FLOCK OF BIRDS OVER AP...</td>\n",
       "      <td>Small</td>\n",
       "      <td>No Cloud</td>\n",
       "      <td>European starling</td>\n",
       "      <td>N</td>\n",
       "      <td>0</td>\n",
       "      <td>50</td>\n",
       "      <td>0</td>\n",
       "      <td>No</td>\n",
       "    </tr>\n",
       "    <tr>\n",
       "      <th>3</th>\n",
       "      <td>215953</td>\n",
       "      <td>Airplane</td>\n",
       "      <td>SEATTLE-TACOMA INTL</td>\n",
       "      <td>&lt; 1000 ft</td>\n",
       "      <td>B-737-400</td>\n",
       "      <td>Over 100</td>\n",
       "      <td>806</td>\n",
       "      <td>Precautionary Landing</td>\n",
       "      <td>9/5/2002 0:00</td>\n",
       "      <td>No damage</td>\n",
       "      <td>...</td>\n",
       "      <td>FALSE</td>\n",
       "      <td>NOTAM WARNING. 26 BIRDS HIT THE A/C, FORCING A...</td>\n",
       "      <td>Small</td>\n",
       "      <td>Some Cloud</td>\n",
       "      <td>European starling</td>\n",
       "      <td>Y</td>\n",
       "      <td>0</td>\n",
       "      <td>50</td>\n",
       "      <td>0</td>\n",
       "      <td>Yes</td>\n",
       "    </tr>\n",
       "    <tr>\n",
       "      <th>4</th>\n",
       "      <td>219878</td>\n",
       "      <td>Airplane</td>\n",
       "      <td>NORFOLK INTL</td>\n",
       "      <td>&lt; 1000 ft</td>\n",
       "      <td>CL-RJ100/200</td>\n",
       "      <td>Over 100</td>\n",
       "      <td>942</td>\n",
       "      <td>No_impact</td>\n",
       "      <td>6/23/2003 0:00</td>\n",
       "      <td>No damage</td>\n",
       "      <td>...</td>\n",
       "      <td>FALSE</td>\n",
       "      <td>NO DMG REPTD.</td>\n",
       "      <td>Small</td>\n",
       "      <td>No Cloud</td>\n",
       "      <td>European starling</td>\n",
       "      <td>N</td>\n",
       "      <td>0</td>\n",
       "      <td>50</td>\n",
       "      <td>0</td>\n",
       "      <td>No</td>\n",
       "    </tr>\n",
       "  </tbody>\n",
       "</table>\n",
       "<p>5 rows × 26 columns</p>\n",
       "</div>"
      ],
      "text/plain": [
       "   Record ID Aircraft: Type                Airport: Name Altitude bin  \\\n",
       "0     202152       Airplane                 LAGUARDIA NY    > 1000 ft   \n",
       "1     208159       Airplane  DALLAS/FORT WORTH INTL ARPT    < 1000 ft   \n",
       "2     207601       Airplane            LAKEFRONT AIRPORT    < 1000 ft   \n",
       "3     215953       Airplane          SEATTLE-TACOMA INTL    < 1000 ft   \n",
       "4     219878       Airplane                 NORFOLK INTL    < 1000 ft   \n",
       "\n",
       "  Aircraft: Make/Model Wildlife: Number struck  \\\n",
       "0            B-737-400                Over 100   \n",
       "1                MD-80                Over 100   \n",
       "2                C-500                Over 100   \n",
       "3            B-737-400                Over 100   \n",
       "4         CL-RJ100/200                Over 100   \n",
       "\n",
       "   Wildlife: Number Struck Actual Effect: Impact to flight       FlightDate  \\\n",
       "0                             859         Engine Shut Down  11/23/2000 0:00   \n",
       "1                             424                No_impact   7/25/2001 0:00   \n",
       "2                             261                No_impact   9/14/2001 0:00   \n",
       "3                             806    Precautionary Landing    9/5/2002 0:00   \n",
       "4                             942                No_impact   6/23/2003 0:00   \n",
       "\n",
       "  Effect: Indicated Damage  ... Remains of wildlife sent to Smithsonian  \\\n",
       "0            Caused damage  ...                                   FALSE   \n",
       "1            Caused damage  ...                                   FALSE   \n",
       "2                No damage  ...                                   FALSE   \n",
       "3                No damage  ...                                   FALSE   \n",
       "4                No damage  ...                                   FALSE   \n",
       "\n",
       "                                             Remarks Wildlife: Size  \\\n",
       "0  FLT 753. PILOT REPTD A HUNDRED BIRDS ON UNKN T...         Medium   \n",
       "1  102 CARCASSES FOUND. 1 LDG LIGHT ON NOSE GEAR ...          Small   \n",
       "2  FLEW UNDER A VERY LARGE FLOCK OF BIRDS OVER AP...          Small   \n",
       "3  NOTAM WARNING. 26 BIRDS HIT THE A/C, FORCING A...          Small   \n",
       "4                                      NO DMG REPTD.          Small   \n",
       "\n",
       "  Conditions: Sky      Wildlife: Species Pilot warned of birds or wildlife?  \\\n",
       "0        No Cloud  Unknown bird - medium                                  N   \n",
       "1      Some Cloud            Rock pigeon                                  Y   \n",
       "2        No Cloud      European starling                                  N   \n",
       "3      Some Cloud      European starling                                  Y   \n",
       "4        No Cloud      European starling                                  N   \n",
       "\n",
       "  Cost: Total $ Feet above ground Number of people injured Is Aircraft Large?  \n",
       "0        30,736             1,500                        0                Yes  \n",
       "1             0                 0                        0                 No  \n",
       "2             0                50                        0                 No  \n",
       "3             0                50                        0                Yes  \n",
       "4             0                50                        0                 No  \n",
       "\n",
       "[5 rows x 26 columns]"
      ]
     },
     "execution_count": 4,
     "metadata": {},
     "output_type": "execute_result"
    }
   ],
   "source": [
    "df = pd.read_csv('Brids_Data_1.csv')\n",
    "df.head()"
   ]
  },
  {
   "cell_type": "code",
   "execution_count": 5,
   "id": "8e9a4a82-61e1-40b2-95df-9d101d037886",
   "metadata": {},
   "outputs": [
    {
     "data": {
      "text/plain": [
       "(25558, 26)"
      ]
     },
     "execution_count": 5,
     "metadata": {},
     "output_type": "execute_result"
    }
   ],
   "source": [
    "df.shape"
   ]
  },
  {
   "cell_type": "code",
   "execution_count": 6,
   "id": "18e5bd83-21f2-4493-aa38-e9b84a10a896",
   "metadata": {},
   "outputs": [
    {
     "data": {
      "text/plain": [
       "Record ID                                     0\n",
       "Aircraft: Type                              129\n",
       "Airport: Name                               129\n",
       "Altitude bin                                129\n",
       "Aircraft: Make/Model                          0\n",
       "Wildlife: Number struck                     129\n",
       "Wildlife: Number Struck Actual                0\n",
       "Effect: Impact to flight                    301\n",
       "FlightDate                                  129\n",
       "Effect: Indicated Damage                      0\n",
       "Aircraft: Number of engines?                267\n",
       "Aircraft: Airline/Operator                  129\n",
       "Origin State                                449\n",
       "When: Phase of flight                       129\n",
       "Conditions: Precipitation                   350\n",
       "Remains of wildlife collected?                0\n",
       "Remains of wildlife sent to Smithsonian       0\n",
       "Remarks                                    4766\n",
       "Wildlife: Size                              129\n",
       "Conditions: Sky                               0\n",
       "Wildlife: Species                             0\n",
       "Pilot warned of birds or wildlife?          129\n",
       "Cost: Total $                                 0\n",
       "Feet above ground                           129\n",
       "Number of people injured                      0\n",
       "Is Aircraft Large?                          129\n",
       "dtype: int64"
      ]
     },
     "execution_count": 6,
     "metadata": {},
     "output_type": "execute_result"
    }
   ],
   "source": [
    "df.isnull().sum()"
   ]
  },
  {
   "cell_type": "code",
   "execution_count": 7,
   "id": "341451c0-4323-44e7-82d6-4d9bafcbd2c4",
   "metadata": {},
   "outputs": [
    {
     "data": {
      "text/plain": [
       "2"
      ]
     },
     "execution_count": 7,
     "metadata": {},
     "output_type": "execute_result"
    }
   ],
   "source": [
    "df.ndim"
   ]
  },
  {
   "cell_type": "code",
   "execution_count": 8,
   "id": "24624ea1-f624-4efc-9522-22594112e537",
   "metadata": {},
   "outputs": [
    {
     "data": {
      "text/html": [
       "<div>\n",
       "<style scoped>\n",
       "    .dataframe tbody tr th:only-of-type {\n",
       "        vertical-align: middle;\n",
       "    }\n",
       "\n",
       "    .dataframe tbody tr th {\n",
       "        vertical-align: top;\n",
       "    }\n",
       "\n",
       "    .dataframe thead th {\n",
       "        text-align: right;\n",
       "    }\n",
       "</style>\n",
       "<table border=\"1\" class=\"dataframe\">\n",
       "  <thead>\n",
       "    <tr style=\"text-align: right;\">\n",
       "      <th></th>\n",
       "      <th>Record ID</th>\n",
       "      <th>Wildlife: Number Struck Actual</th>\n",
       "      <th>Number of people injured</th>\n",
       "    </tr>\n",
       "  </thead>\n",
       "  <tbody>\n",
       "    <tr>\n",
       "      <th>count</th>\n",
       "      <td>25558.000000</td>\n",
       "      <td>25558.000000</td>\n",
       "      <td>25558.000000</td>\n",
       "    </tr>\n",
       "    <tr>\n",
       "      <th>mean</th>\n",
       "      <td>253916.085609</td>\n",
       "      <td>2.691525</td>\n",
       "      <td>0.001056</td>\n",
       "    </tr>\n",
       "    <tr>\n",
       "      <th>std</th>\n",
       "      <td>38510.453382</td>\n",
       "      <td>12.793975</td>\n",
       "      <td>0.050420</td>\n",
       "    </tr>\n",
       "    <tr>\n",
       "      <th>min</th>\n",
       "      <td>1195.000000</td>\n",
       "      <td>1.000000</td>\n",
       "      <td>0.000000</td>\n",
       "    </tr>\n",
       "    <tr>\n",
       "      <th>25%</th>\n",
       "      <td>225783.750000</td>\n",
       "      <td>1.000000</td>\n",
       "      <td>0.000000</td>\n",
       "    </tr>\n",
       "    <tr>\n",
       "      <th>50%</th>\n",
       "      <td>248749.000000</td>\n",
       "      <td>1.000000</td>\n",
       "      <td>0.000000</td>\n",
       "    </tr>\n",
       "    <tr>\n",
       "      <th>75%</th>\n",
       "      <td>269168.750000</td>\n",
       "      <td>1.000000</td>\n",
       "      <td>0.000000</td>\n",
       "    </tr>\n",
       "    <tr>\n",
       "      <th>max</th>\n",
       "      <td>321909.000000</td>\n",
       "      <td>942.000000</td>\n",
       "      <td>6.000000</td>\n",
       "    </tr>\n",
       "  </tbody>\n",
       "</table>\n",
       "</div>"
      ],
      "text/plain": [
       "           Record ID  Wildlife: Number Struck Actual  Number of people injured\n",
       "count   25558.000000                    25558.000000              25558.000000\n",
       "mean   253916.085609                        2.691525                  0.001056\n",
       "std     38510.453382                       12.793975                  0.050420\n",
       "min      1195.000000                        1.000000                  0.000000\n",
       "25%    225783.750000                        1.000000                  0.000000\n",
       "50%    248749.000000                        1.000000                  0.000000\n",
       "75%    269168.750000                        1.000000                  0.000000\n",
       "max    321909.000000                      942.000000                  6.000000"
      ]
     },
     "execution_count": 8,
     "metadata": {},
     "output_type": "execute_result"
    }
   ],
   "source": [
    "df.describe()"
   ]
  },
  {
   "cell_type": "code",
   "execution_count": 9,
   "id": "e0c0b2fa-3ab4-4be4-b888-ab3320ba833a",
   "metadata": {},
   "outputs": [
    {
     "data": {
      "text/plain": [
       "array(['FLT 753. PILOT REPTD A HUNDRED BIRDS ON UNKN TYPE. #1 ENG WAS SHUT DOWN AND DIVERTED TO EWR. SLIGHT VIBRATION. A/C WAS OUT OF SVC FOR REPAIRS TO COWLING, FAN DUCT ACCOUSTIC PANEL. INGESTION. DENTED FAN BLADE #26 IN #1 ENG. HEAVY BLOOD STAINS ON L WINGTIP',\n",
       "       '102 CARCASSES FOUND. 1 LDG LIGHT ON NOSE GEAR WAS DAMAGED AND REPLACED.',\n",
       "       'FLEW UNDER A VERY LARGE FLOCK OF BIRDS OVER APCH END OF RWY. NO DMG. JUST A LOT OF BIRD DROPPINGS ON WINDSCREEN.',\n",
       "       ...,\n",
       "       'STRUCK BIRD ON RT FRONT DURING T/O. BIRD REPTD AS BROWN/WHITE. TWY.',\n",
       "       'PILOTS REPORT STRIKING UNKNOWN BIRD ON RWY 21L BTWN TWY F & J. NO REMAINS FOUND ON RWY OR ON A/C. NO DMG TO A/C.',\n",
       "       'HIT CENTER OF RADOME, CAVING IN ABOUT 12\". RADOME WAS REPLACED. CARCASS FOUND IN SAFETY ARA ON RT SIDE OF RWY 22 AT INTXN OF RWY 18/36.'],\n",
       "      dtype=object)"
      ]
     },
     "execution_count": 9,
     "metadata": {},
     "output_type": "execute_result"
    }
   ],
   "source": [
    "df['Remarks'].unique()"
   ]
  },
  {
   "cell_type": "code",
   "execution_count": 10,
   "id": "36322969-5111-4ee2-a021-2952abd47db3",
   "metadata": {},
   "outputs": [
    {
     "data": {
      "text/plain": [
       "array(['New York', 'Texas', 'Louisiana', 'Washington', 'Virginia', nan,\n",
       "       'Delaware', 'DC', 'Georgia', 'Florida', 'California', 'Illinois',\n",
       "       'Connecticut', 'Missouri', 'Rhode Island', 'Hawaii', 'Arizona',\n",
       "       'Tennessee', 'South Carolina', 'South Dakota', 'New Jersey',\n",
       "       'Colorado', 'Minnesota', 'Alabama', 'Ohio', 'Wisconsin',\n",
       "       'Michigan', 'Massachusetts', 'Alaska', 'North Carolina',\n",
       "       'Kentucky', 'Indiana', 'Oregon', 'Pennsylvania', 'New Hampshire',\n",
       "       'Arkansas', 'Nevada', 'Mississippi', 'Maryland', 'Maine', 'Quebec',\n",
       "       'Idaho', 'British Columbia', 'Utah', 'Nebraska', 'Iowa',\n",
       "       'New Mexico', 'West Virginia', 'Oklahoma', 'North Dakota',\n",
       "       'Vermont', 'Wyoming', 'Kansas', 'Prince Edward Island', 'Montana',\n",
       "       'Puerto Rico', 'Ontario', 'Virgin Islands',\n",
       "       'Newfoundland and Labrador', 'Alberta', 'Saskatchewan'],\n",
       "      dtype=object)"
      ]
     },
     "execution_count": 10,
     "metadata": {},
     "output_type": "execute_result"
    }
   ],
   "source": [
    "df['Origin State'].unique()"
   ]
  },
  {
   "cell_type": "code",
   "execution_count": 11,
   "id": "46463bbe-8fbb-4859-9740-42d7817958d5",
   "metadata": {},
   "outputs": [
    {
     "data": {
      "text/plain": [
       "array(['Airplane', nan], dtype=object)"
      ]
     },
     "execution_count": 11,
     "metadata": {},
     "output_type": "execute_result"
    }
   ],
   "source": [
    "df['Aircraft: Type'].unique()"
   ]
  },
  {
   "cell_type": "code",
   "execution_count": 12,
   "id": "7a018d36-e002-49da-a677-44e5bce44967",
   "metadata": {},
   "outputs": [
    {
     "data": {
      "text/plain": [
       "Index(['Record ID', 'Aircraft: Type', 'Airport: Name', 'Altitude bin',\n",
       "       'Aircraft: Make/Model', 'Wildlife: Number struck',\n",
       "       'Wildlife: Number Struck Actual', 'Effect: Impact to flight',\n",
       "       'FlightDate', 'Effect: Indicated Damage',\n",
       "       'Aircraft: Number of engines?', 'Aircraft: Airline/Operator',\n",
       "       'Origin State', 'When: Phase of flight', 'Conditions: Precipitation',\n",
       "       'Remains of wildlife collected?',\n",
       "       'Remains of wildlife sent to Smithsonian', 'Remarks', 'Wildlife: Size',\n",
       "       'Conditions: Sky', 'Wildlife: Species',\n",
       "       'Pilot warned of birds or wildlife?', 'Cost: Total $',\n",
       "       'Feet above ground', 'Number of people injured', 'Is Aircraft Large?'],\n",
       "      dtype='object')"
      ]
     },
     "execution_count": 12,
     "metadata": {},
     "output_type": "execute_result"
    }
   ],
   "source": [
    "df.columns"
   ]
  },
  {
   "cell_type": "code",
   "execution_count": 13,
   "id": "aa077709-66f2-4ca1-a5ca-bd7a8d32094a",
   "metadata": {},
   "outputs": [
    {
     "data": {
      "text/plain": [
       "664508"
      ]
     },
     "execution_count": 13,
     "metadata": {},
     "output_type": "execute_result"
    }
   ],
   "source": [
    "df.size"
   ]
  },
  {
   "cell_type": "code",
   "execution_count": 14,
   "id": "cc59015d-363d-4656-b1a8-23e08d438828",
   "metadata": {},
   "outputs": [
    {
     "name": "stdout",
     "output_type": "stream",
     "text": [
      "<class 'pandas.core.frame.DataFrame'>\n",
      "RangeIndex: 25558 entries, 0 to 25557\n",
      "Data columns (total 26 columns):\n",
      " #   Column                                   Non-Null Count  Dtype \n",
      "---  ------                                   --------------  ----- \n",
      " 0   Record ID                                25558 non-null  int64 \n",
      " 1   Aircraft: Type                           25429 non-null  object\n",
      " 2   Airport: Name                            25429 non-null  object\n",
      " 3   Altitude bin                             25429 non-null  object\n",
      " 4   Aircraft: Make/Model                     25558 non-null  object\n",
      " 5   Wildlife: Number struck                  25429 non-null  object\n",
      " 6   Wildlife: Number Struck Actual           25558 non-null  int64 \n",
      " 7   Effect: Impact to flight                 25257 non-null  object\n",
      " 8   FlightDate                               25429 non-null  object\n",
      " 9   Effect: Indicated Damage                 25558 non-null  object\n",
      " 10  Aircraft: Number of engines?             25291 non-null  object\n",
      " 11  Aircraft: Airline/Operator               25429 non-null  object\n",
      " 12  Origin State                             25109 non-null  object\n",
      " 13  When: Phase of flight                    25429 non-null  object\n",
      " 14  Conditions: Precipitation                25208 non-null  object\n",
      " 15  Remains of wildlife collected?           25558 non-null  object\n",
      " 16  Remains of wildlife sent to Smithsonian  25558 non-null  object\n",
      " 17  Remarks                                  20792 non-null  object\n",
      " 18  Wildlife: Size                           25429 non-null  object\n",
      " 19  Conditions: Sky                          25558 non-null  object\n",
      " 20  Wildlife: Species                        25558 non-null  object\n",
      " 21  Pilot warned of birds or wildlife?       25429 non-null  object\n",
      " 22  Cost: Total $                            25558 non-null  object\n",
      " 23  Feet above ground                        25429 non-null  object\n",
      " 24  Number of people injured                 25558 non-null  int64 \n",
      " 25  Is Aircraft Large?                       25429 non-null  object\n",
      "dtypes: int64(3), object(23)\n",
      "memory usage: 5.1+ MB\n"
     ]
    }
   ],
   "source": [
    "df.info()"
   ]
  },
  {
   "cell_type": "code",
   "execution_count": 20,
   "id": "0edb4d8d-0ec6-4f22-8986-2525fcddc01b",
   "metadata": {},
   "outputs": [],
   "source": [
    "df1 = df.copy()"
   ]
  },
  {
   "cell_type": "code",
   "execution_count": 21,
   "id": "d3814f25-f33c-4889-a194-212ade357df4",
   "metadata": {},
   "outputs": [],
   "source": [
    "df1.to_excel(r'C:\\Users\\Admin\\Brids_Data_1.xlsx',index = False)"
   ]
  },
  {
   "cell_type": "code",
   "execution_count": null,
   "id": "5adfcaa2-168f-4773-9a20-809ef365215d",
   "metadata": {},
   "outputs": [],
   "source": []
  }
 ],
 "metadata": {
  "kernelspec": {
   "display_name": "Python 3 (ipykernel)",
   "language": "python",
   "name": "python3"
  },
  "language_info": {
   "codemirror_mode": {
    "name": "ipython",
    "version": 3
   },
   "file_extension": ".py",
   "mimetype": "text/x-python",
   "name": "python",
   "nbconvert_exporter": "python",
   "pygments_lexer": "ipython3",
   "version": "3.11.7"
  }
 },
 "nbformat": 4,
 "nbformat_minor": 5
}
